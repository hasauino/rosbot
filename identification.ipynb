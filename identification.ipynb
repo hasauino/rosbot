{
 "cells": [
  {
   "cell_type": "markdown",
   "metadata": {},
   "source": [
    "# Motor Model\n",
    "\n",
    "$$\n",
    "v_{in} = R i(t) + L \\dot{i}(t) + k w\\\\\n",
    "\\\\\n",
    "J_m \\dot{w} = k i(t) - B w - C\n",
    "$$\n",
    "\n",
    "C: dry friction torque\n",
    "\n",
    "B: firiction constant with speed\n",
    "\n",
    "J_m: shaft inertial\n",
    "\n",
    "R: winding resistance\n",
    "\n",
    "L: winding inductance\n",
    "\n",
    "k: torque and back emf constant (identical)"
   ]
  },
  {
   "cell_type": "markdown",
   "metadata": {},
   "source": [
    "# Identification\n",
    "\n",
    "## 1: R\n",
    "\n",
    "R = 4.75 $\\Omega$ (by measurement)"
   ]
  },
  {
   "cell_type": "markdown",
   "metadata": {},
   "source": [
    "## 2: K\n",
    "\n",
    "- At steady state ($t \\rightarrow \\infty$), $\\dot{i}(t) = 0$, so:\n",
    "$$\n",
    "k = {{v_{in} - Ri(t)}\\over {w}}\n",
    "$$\n",
    "\n",
    "- Test 1:\n",
    "\n",
    "vin = 5.81 v,  i = 103.5 mA, w = 28.03 rad/s\n",
    "\n",
    "$\\rightarrow$ k = 0.18974\n",
    "\n",
    "used value: k=0.185 (another test gave 0.184)"
   ]
  }
 ],
 "metadata": {
  "kernelspec": {
   "display_name": "Python 3",
   "language": "python",
   "name": "python3"
  },
  "language_info": {
   "codemirror_mode": {
    "name": "ipython",
    "version": 3
   },
   "file_extension": ".py",
   "mimetype": "text/x-python",
   "name": "python",
   "nbconvert_exporter": "python",
   "pygments_lexer": "ipython3",
   "version": "3.5.2"
  }
 },
 "nbformat": 4,
 "nbformat_minor": 2
}
